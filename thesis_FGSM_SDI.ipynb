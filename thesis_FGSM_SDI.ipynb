{
  "nbformat": 4,
  "nbformat_minor": 0,
  "metadata": {
    "colab": {
      "name": "thesis_FGSM_SDI.ipynb",
      "provenance": [],
      "collapsed_sections": []
    },
    "kernelspec": {
      "name": "python3",
      "display_name": "Python 3"
    },
    "language_info": {
      "name": "python"
    }
  },
  "cells": [
    {
      "cell_type": "code",
      "execution_count": null,
      "metadata": {
        "id": "ibwzqo7IGdI6"
      },
      "outputs": [],
      "source": [
        "from autoattack import AutoAttack\n",
        "from models import *\n",
        "from utils import *\n",
        "#import argparse\n",
        "import sys\n",
        "import os\n",
        "sys.path.insert(0, '..')\n",
        "from utils import *\n",
        "\n",
        "\n"
      ]
    },
    {
      "cell_type": "code",
      "source": [
        "\"\"\"\n",
        "def get_args():\n",
        "    parser = argparse.ArgumentParser()\n",
        "    parser.add_argument('--data-dir', type=str, default='./data')\n",
        "    parser.add_argument('--norm', type=str, default='Linf')\n",
        "    parser.add_argument('--epsilon', type=int, default=8)\n",
        "    parser.add_argument('--model_path', type=str, default='./model_test.pt')\n",
        "    parser.add_argument('--model', default='ResNet18', type=str, help='model name')\n",
        "    parser.add_argument('--n_ex', type=int, default=10000)\n",
        "    parser.add_argument('--batch_size', type=int, default=500)\n",
        "    parser.add_argument('--out_dir', type=str, default='./data')\n",
        "\n",
        "    arguments = parser.parse_args()\n",
        "    return arguments\n",
        "\n",
        "\n",
        "args = get_args()\n",
        "\"\"\"\n",
        "\n"
      ],
      "metadata": {
        "id": "A3I3D-RMHCRl"
      },
      "execution_count": null,
      "outputs": []
    },
    {
      "cell_type": "code",
      "source": [
        "data_dir = './data'\n",
        "norm = 'Linf'\n",
        "epsilon = 8\n",
        "model_path = './model_test.pt'\n",
        "model = 'ResNet18'  ################## model name ##################\n",
        "n_ex = 10000\n",
        "batch_size = 500\n",
        "out_dir = './data'\n",
        "\n",
        "device = 'cuda' if torch.cuda.is_available() else 'cpu'"
      ],
      "metadata": {
        "id": "nWvw8Hl_nRKw"
      },
      "execution_count": null,
      "outputs": []
    },
    {
      "cell_type": "code",
      "source": [
        "if not os.path.exists(args.out_dir):\n",
        "    os.makedirs(args.out_dir)\n",
        "logfile1 = os.path.join(args.out_dir, 'log_file1.txt')\n",
        "logfile2 = os.path.join(args.out_dir, 'log_file2.txt')\n",
        "if os.path.exists(logfile1):\n",
        "    os.remove(logfile1)\n",
        "if os.path.exists(logfile2):\n",
        "    os.remove(logfile2)"
      ],
      "metadata": {
        "id": "OuYy43awswgn"
      },
      "execution_count": null,
      "outputs": []
    },
    {
      "cell_type": "code",
      "source": [
        "\n",
        "if model == \"VGG\":\n",
        "    target_model = VGG('VGG19')\n",
        "elif model == \"ResNet18\":\n",
        "    target_model = ResNet18()\n",
        "elif model == \"PreActResNest18\":\n",
        "    target_model = PreActResNet18()\n",
        "elif model == \"WideResNet\":\n",
        "    target_model = WideResNet()\n",
        "\n",
        "target_model = target_model.to(device)\n",
        "checkpoint = torch.load(model_path)\n",
        "from collections import OrderedDict\n",
        "\n",
        "try:\n",
        "    target_model.load_state_dict(checkpoint)\n",
        "except:\n",
        "    new_state_dict = OrderedDict()\n",
        "    for k, v in checkpoint.items():\n",
        "        name = k[7:]  # remove `module.`\n",
        "        new_state_dict[name] = v\n",
        "    target_model.load_state_dict(new_state_dict, False)\n",
        "\n",
        "target_model.eval()\n",
        "train_loader, test_loader = get_loaders(data_dir, batch_size)\n",
        "#epsilon = args.epsilon\n",
        "epsilon = float(epsilon) / 255.\n",
        "print(epsilon)\n",
        "\n",
        "AT_fgsm_loss,AT_fgsm_acc = evaluate_fgsm(test_loader, target_model, 1)\n",
        "AT_pgd_loss_10, AT_pgd_acc_10 = evaluate_pgd(test_loader, target_model, 10, 1, epsilon / std)\n",
        "AT_pgd_loss_20, AT_pgd_acc_20 = evaluate_pgd(test_loader, target_model, 20, 1, epsilon / std)\n",
        "AT_pgd_loss_50, AT_pgd_acc_50 = evaluate_pgd(test_loader, target_model, 50, 1, epsilon / std)\n",
        "\n",
        "AT_CW_loss_20, AT_pgd_cw_acc_20 = evaluate_pgd_cw(test_loader, target_model, 20, 1)\n",
        "\n",
        "\n",
        "AT_models_test_loss, AT_models_test_acc = evaluate_standard(test_loader, target_model)\n",
        "\n",
        "print('AT_models_test_acc:', AT_models_test_acc)\n",
        "print('AT_fgsm_acc:', AT_fgsm_acc)\n",
        "print('AT_pgd_acc_10:', AT_pgd_acc_10)\n",
        "print('AT_pgd_acc_20:', AT_pgd_acc_20)\n",
        "print('AT_pgd_acc_50:', AT_pgd_acc_50)\n",
        "print('AT_pgd_cw_acc_20:', AT_pgd_cw_acc_20)\n",
        "\n",
        "adversary1 = AutoAttack(target_model, norm=norm, eps=epsilon, version='standard', log_path=logfile1)\n",
        "#\n",
        "# adversary2 = AutoAttack(target_model, norm=norm, eps=epsilon, version='standard', log_path=logfile2)\n",
        "l = [x for (x, y) in test_loader]\n",
        "x_test = torch.cat(l, 0)\n",
        "l = [y for (x, y) in test_loader]\n",
        "y_test = torch.cat(l, 0)\n",
        "\n",
        "adv_complete = adversary1.run_standard_evaluation(x_test[:n_ex], y_test[:n_ex],\n",
        "                                                   bs = batch_size)\n",
        "#adv_complete1 = adversary2.run_standard_evaluation_individual(x_test[:n_ex], y_test[:n_ex],\n",
        " #                                                               bs = batch_size)"
      ],
      "metadata": {
        "id": "uwXfpYnMHDDz"
      },
      "execution_count": null,
      "outputs": []
    },
    {
      "cell_type": "code",
      "source": [
        ""
      ],
      "metadata": {
        "id": "76QBAuveHDBu"
      },
      "execution_count": null,
      "outputs": []
    }
  ]
}